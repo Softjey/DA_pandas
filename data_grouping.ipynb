{
 "cells": [
  {
   "cell_type": "code",
   "execution_count": 2,
   "metadata": {},
   "outputs": [
    {
     "name": "stdout",
     "output_type": "stream",
     "text": [
      "   order_id product_name     category customer_region  sales\n",
      "0       101       Laptop  Electronics           North   1200\n",
      "1       102   Smartphone  Electronics           South    800\n",
      "2       103       Laptop  Electronics            East   1500\n",
      "3       104       Tablet  Electronics           North    500\n",
      "4       105   Smartphone  Electronics            West    850\n",
      "5       106       Tablet  Electronics           South    400\n",
      "6       107   Smartwatch    Wearables            East    300\n",
      "7       108       Laptop  Electronics            West   1300\n",
      "8       109   Headphones  Accessories           North    150\n",
      "9       110   Smartwatch    Wearables            West    350\n"
     ]
    }
   ],
   "source": [
    "import pandas as pd\n",
    "\n",
    "# Creating a DataFrame with sample e-commerce data\n",
    "data = {\n",
    "    \"order_id\": [101, 102, 103, 104, 105, 106, 107, 108, 109, 110],\n",
    "    \"product_name\": [\n",
    "        \"Laptop\",\n",
    "        \"Smartphone\",\n",
    "        \"Laptop\",\n",
    "        \"Tablet\",\n",
    "        \"Smartphone\",\n",
    "        \"Tablet\",\n",
    "        \"Smartwatch\",\n",
    "        \"Laptop\",\n",
    "        \"Headphones\",\n",
    "        \"Smartwatch\",\n",
    "    ],\n",
    "    \"category\": [\n",
    "        \"Electronics\",\n",
    "        \"Electronics\",\n",
    "        \"Electronics\",\n",
    "        \"Electronics\",\n",
    "        \"Electronics\",\n",
    "        \"Electronics\",\n",
    "        \"Wearables\",\n",
    "        \"Electronics\",\n",
    "        \"Accessories\",\n",
    "        \"Wearables\",\n",
    "    ],\n",
    "    \"customer_region\": [\n",
    "        \"North\",\n",
    "        \"South\",\n",
    "        \"East\",\n",
    "        \"North\",\n",
    "        \"West\",\n",
    "        \"South\",\n",
    "        \"East\",\n",
    "        \"West\",\n",
    "        \"North\",\n",
    "        \"West\",\n",
    "    ],\n",
    "    \"sales\": [1200, 800, 1500, 500, 850, 400, 300, 1300, 150, 350],\n",
    "}\n",
    "\n",
    "df = pd.DataFrame(data)\n",
    "print(df)"
   ]
  },
  {
   "cell_type": "markdown",
   "metadata": {},
   "source": [
    "## Sales sum of each category"
   ]
  },
  {
   "cell_type": "code",
   "execution_count": 3,
   "metadata": {},
   "outputs": [
    {
     "data": {
      "text/plain": [
       "category\n",
       "Accessories     150\n",
       "Electronics    6550\n",
       "Wearables       650\n",
       "Name: sales, dtype: int64"
      ]
     },
     "execution_count": 3,
     "metadata": {},
     "output_type": "execute_result"
    }
   ],
   "source": [
    "df.groupby('category')['sales'].sum()"
   ]
  },
  {
   "cell_type": "markdown",
   "metadata": {},
   "source": [
    "## Average sales in regions"
   ]
  },
  {
   "cell_type": "code",
   "execution_count": 4,
   "metadata": {},
   "outputs": [
    {
     "data": {
      "text/plain": [
       "customer_region\n",
       "East     900.000000\n",
       "West     833.333333\n",
       "North    616.666667\n",
       "South    600.000000\n",
       "Name: sales, dtype: float64"
      ]
     },
     "execution_count": 4,
     "metadata": {},
     "output_type": "execute_result"
    }
   ],
   "source": [
    "df.groupby('customer_region')['sales'].mean().sort_values(ascending=False)"
   ]
  },
  {
   "cell_type": "markdown",
   "metadata": {},
   "source": [
    "## Average sales for each product in regions"
   ]
  },
  {
   "cell_type": "code",
   "execution_count": 10,
   "metadata": {},
   "outputs": [
    {
     "data": {
      "text/plain": [
       "product_name  customer_region\n",
       "Headphones    North               150.0\n",
       "Laptop        East               1500.0\n",
       "              North              1200.0\n",
       "              West               1300.0\n",
       "Smartphone    South               800.0\n",
       "              West                850.0\n",
       "Smartwatch    East                300.0\n",
       "              West                350.0\n",
       "Tablet        North               500.0\n",
       "              South               400.0\n",
       "Name: sales, dtype: float64"
      ]
     },
     "execution_count": 10,
     "metadata": {},
     "output_type": "execute_result"
    }
   ],
   "source": [
    "df.groupby(['product_name', 'customer_region'])['sales'].mean()"
   ]
  },
  {
   "cell_type": "markdown",
   "metadata": {},
   "source": [
    "## Minimum and Maximum sales for region"
   ]
  },
  {
   "cell_type": "code",
   "execution_count": 11,
   "metadata": {},
   "outputs": [
    {
     "data": {
      "text/html": [
       "<div>\n",
       "<style scoped>\n",
       "    .dataframe tbody tr th:only-of-type {\n",
       "        vertical-align: middle;\n",
       "    }\n",
       "\n",
       "    .dataframe tbody tr th {\n",
       "        vertical-align: top;\n",
       "    }\n",
       "\n",
       "    .dataframe thead th {\n",
       "        text-align: right;\n",
       "    }\n",
       "</style>\n",
       "<table border=\"1\" class=\"dataframe\">\n",
       "  <thead>\n",
       "    <tr style=\"text-align: right;\">\n",
       "      <th></th>\n",
       "      <th>min</th>\n",
       "      <th>max</th>\n",
       "    </tr>\n",
       "    <tr>\n",
       "      <th>customer_region</th>\n",
       "      <th></th>\n",
       "      <th></th>\n",
       "    </tr>\n",
       "  </thead>\n",
       "  <tbody>\n",
       "    <tr>\n",
       "      <th>East</th>\n",
       "      <td>300</td>\n",
       "      <td>1500</td>\n",
       "    </tr>\n",
       "    <tr>\n",
       "      <th>North</th>\n",
       "      <td>150</td>\n",
       "      <td>1200</td>\n",
       "    </tr>\n",
       "    <tr>\n",
       "      <th>South</th>\n",
       "      <td>400</td>\n",
       "      <td>800</td>\n",
       "    </tr>\n",
       "    <tr>\n",
       "      <th>West</th>\n",
       "      <td>350</td>\n",
       "      <td>1300</td>\n",
       "    </tr>\n",
       "  </tbody>\n",
       "</table>\n",
       "</div>"
      ],
      "text/plain": [
       "                 min   max\n",
       "customer_region           \n",
       "East             300  1500\n",
       "North            150  1200\n",
       "South            400   800\n",
       "West             350  1300"
      ]
     },
     "execution_count": 11,
     "metadata": {},
     "output_type": "execute_result"
    }
   ],
   "source": [
    "df.groupby('customer_region')['sales'].aggregate(['min', 'max'])"
   ]
  }
 ],
 "metadata": {
  "kernelspec": {
   "display_name": ".venv",
   "language": "python",
   "name": "python3"
  },
  "language_info": {
   "codemirror_mode": {
    "name": "ipython",
    "version": 3
   },
   "file_extension": ".py",
   "mimetype": "text/x-python",
   "name": "python",
   "nbconvert_exporter": "python",
   "pygments_lexer": "ipython3",
   "version": "3.12.2"
  }
 },
 "nbformat": 4,
 "nbformat_minor": 2
}
