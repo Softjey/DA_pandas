{
 "cells": [
  {
   "cell_type": "code",
   "execution_count": 29,
   "metadata": {},
   "outputs": [
    {
     "name": "stdout",
     "output_type": "stream",
     "text": [
      "   order_id customer_name product_category  quantity  unit_price  order_date\n",
      "0      1001         Alice      Electronics       2.0      299.99  2024-08-01\n",
      "1      1002           Bob         Clothing       1.0       49.99  2024-08-02\n",
      "2      1003          None      Electronics       NaN      199.99  2024-08-03\n",
      "3      1004         David            Books       1.0         NaN  2024-08-04\n",
      "4      1005           Eva             None       3.0       15.99  2024-08-05\n",
      "5      1006         Frank         Clothing       NaN       79.99  2024-08-06\n",
      "6      1007          None            Books       4.0       12.99        None\n"
     ]
    }
   ],
   "source": [
    "import pandas as pd\n",
    "\n",
    "# Creating a DataFrame\n",
    "data = {\n",
    "    \"order_id\": [1001, 1002, 1003, 1004, 1005, 1006, 1007],\n",
    "    \"customer_name\": [\"Alice\", \"Bob\", None, \"David\", \"Eva\", \"Frank\", None],\n",
    "    \"product_category\": [\"Electronics\", \"Clothing\", \"Electronics\", \"Books\", None, \"Clothing\", \"Books\"],\n",
    "    \"quantity\": [2, 1, None, 1, 3, None, 4],\n",
    "    \"unit_price\": [299.99, 49.99, 199.99, None, 15.99, 79.99, 12.99],\n",
    "    \"order_date\": [\"2024-08-01\", \"2024-08-02\", \"2024-08-03\", \"2024-08-04\", \"2024-08-05\", \"2024-08-06\", None]\n",
    "}\n",
    "\n",
    "df = pd.DataFrame(data)\n",
    "print(df)"
   ]
  },
  {
   "cell_type": "markdown",
   "metadata": {},
   "source": [
    "### Amount of missing values"
   ]
  },
  {
   "cell_type": "markdown",
   "metadata": {},
   "source": [
    "#### Amount of missing values in each column"
   ]
  },
  {
   "cell_type": "code",
   "execution_count": 30,
   "metadata": {},
   "outputs": [
    {
     "data": {
      "text/plain": [
       "order_id            0\n",
       "customer_name       2\n",
       "product_category    1\n",
       "quantity            2\n",
       "unit_price          1\n",
       "order_date          1\n",
       "dtype: int64"
      ]
     },
     "execution_count": 30,
     "metadata": {},
     "output_type": "execute_result"
    }
   ],
   "source": [
    "columns_missing_values = df.isna().sum()\n",
    "columns_missing_values"
   ]
  },
  {
   "cell_type": "markdown",
   "metadata": {},
   "source": [
    "#### Amount of records with missing values"
   ]
  },
  {
   "cell_type": "code",
   "execution_count": 31,
   "metadata": {},
   "outputs": [
    {
     "data": {
      "text/plain": [
       "0    0\n",
       "1    0\n",
       "2    2\n",
       "3    1\n",
       "4    1\n",
       "5    1\n",
       "6    2\n",
       "dtype: int64"
      ]
     },
     "execution_count": 31,
     "metadata": {},
     "output_type": "execute_result"
    }
   ],
   "source": [
    "rows_missing_values = df.isna().sum(axis=1)\n",
    "rows_missing_values"
   ]
  },
  {
   "cell_type": "markdown",
   "metadata": {},
   "source": [
    "### Percentage of missing values"
   ]
  },
  {
   "cell_type": "markdown",
   "metadata": {},
   "source": [
    "#### Percentage of missing values in each column"
   ]
  },
  {
   "cell_type": "code",
   "execution_count": 32,
   "metadata": {},
   "outputs": [
    {
     "data": {
      "text/plain": [
       "order_id             0.000000\n",
       "customer_name       28.571429\n",
       "product_category    14.285714\n",
       "quantity            28.571429\n",
       "unit_price          14.285714\n",
       "order_date          14.285714\n",
       "dtype: float64"
      ]
     },
     "execution_count": 32,
     "metadata": {},
     "output_type": "execute_result"
    }
   ],
   "source": [
    "percentage_columns_missing_values = columns_missing_values / df.shape[0] * 100\n",
    "percentage_columns_missing_values"
   ]
  },
  {
   "cell_type": "markdown",
   "metadata": {},
   "source": [
    "#### Percentage of records with missing values"
   ]
  },
  {
   "cell_type": "code",
   "execution_count": 35,
   "metadata": {},
   "outputs": [
    {
     "data": {
      "text/plain": [
       "0     0.000000\n",
       "1     0.000000\n",
       "2    33.333333\n",
       "3    16.666667\n",
       "4    16.666667\n",
       "5    16.666667\n",
       "6    33.333333\n",
       "dtype: float64"
      ]
     },
     "execution_count": 35,
     "metadata": {},
     "output_type": "execute_result"
    }
   ],
   "source": [
    "percentage_columns_missing_values = rows_missing_values / df.shape[1] * 100\n",
    "percentage_columns_missing_values"
   ]
  },
  {
   "cell_type": "markdown",
   "metadata": {},
   "source": [
    "#### Deleting columns with more than 50% of missing values"
   ]
  },
  {
   "cell_type": "markdown",
   "metadata": {},
   "source": [
    "We don't have any rows or columns where 50% of the values are missing. So, we don't need to delete any columns or rows."
   ]
  },
  {
   "cell_type": "code",
   "execution_count": 44,
   "metadata": {},
   "outputs": [],
   "source": [
    "# df.dropna(thresh=int(df.shape[1] * 0.5))\n",
    "# df.dropna(thresh=int(df.shape[0] * 0.5))"
   ]
  },
  {
   "cell_type": "markdown",
   "metadata": {},
   "source": [
    "### Imputing missing values"
   ]
  },
  {
   "cell_type": "code",
   "execution_count": 51,
   "metadata": {},
   "outputs": [
    {
     "data": {
      "text/html": [
       "<div>\n",
       "<style scoped>\n",
       "    .dataframe tbody tr th:only-of-type {\n",
       "        vertical-align: middle;\n",
       "    }\n",
       "\n",
       "    .dataframe tbody tr th {\n",
       "        vertical-align: top;\n",
       "    }\n",
       "\n",
       "    .dataframe thead th {\n",
       "        text-align: right;\n",
       "    }\n",
       "</style>\n",
       "<table border=\"1\" class=\"dataframe\">\n",
       "  <thead>\n",
       "    <tr style=\"text-align: right;\">\n",
       "      <th></th>\n",
       "      <th>order_id</th>\n",
       "      <th>customer_name</th>\n",
       "      <th>product_category</th>\n",
       "      <th>quantity</th>\n",
       "      <th>unit_price</th>\n",
       "      <th>order_date</th>\n",
       "    </tr>\n",
       "  </thead>\n",
       "  <tbody>\n",
       "    <tr>\n",
       "      <th>0</th>\n",
       "      <td>1001</td>\n",
       "      <td>Alice</td>\n",
       "      <td>Electronics</td>\n",
       "      <td>2.0</td>\n",
       "      <td>299.990000</td>\n",
       "      <td>2024-08-01</td>\n",
       "    </tr>\n",
       "    <tr>\n",
       "      <th>1</th>\n",
       "      <td>1002</td>\n",
       "      <td>Bob</td>\n",
       "      <td>Clothing</td>\n",
       "      <td>1.0</td>\n",
       "      <td>49.990000</td>\n",
       "      <td>2024-08-02</td>\n",
       "    </tr>\n",
       "    <tr>\n",
       "      <th>2</th>\n",
       "      <td>1003</td>\n",
       "      <td>Unknown</td>\n",
       "      <td>Electronics</td>\n",
       "      <td>2.2</td>\n",
       "      <td>199.990000</td>\n",
       "      <td>2024-08-03</td>\n",
       "    </tr>\n",
       "    <tr>\n",
       "      <th>3</th>\n",
       "      <td>1004</td>\n",
       "      <td>David</td>\n",
       "      <td>Books</td>\n",
       "      <td>1.0</td>\n",
       "      <td>109.823333</td>\n",
       "      <td>2024-08-04</td>\n",
       "    </tr>\n",
       "    <tr>\n",
       "      <th>4</th>\n",
       "      <td>1005</td>\n",
       "      <td>Eva</td>\n",
       "      <td>Miscellaneous</td>\n",
       "      <td>3.0</td>\n",
       "      <td>15.990000</td>\n",
       "      <td>2024-08-05</td>\n",
       "    </tr>\n",
       "    <tr>\n",
       "      <th>5</th>\n",
       "      <td>1006</td>\n",
       "      <td>Frank</td>\n",
       "      <td>Clothing</td>\n",
       "      <td>2.2</td>\n",
       "      <td>79.990000</td>\n",
       "      <td>2024-08-06</td>\n",
       "    </tr>\n",
       "    <tr>\n",
       "      <th>6</th>\n",
       "      <td>1007</td>\n",
       "      <td>Unknown</td>\n",
       "      <td>Books</td>\n",
       "      <td>4.0</td>\n",
       "      <td>12.990000</td>\n",
       "      <td>2024-08-06</td>\n",
       "    </tr>\n",
       "  </tbody>\n",
       "</table>\n",
       "</div>"
      ],
      "text/plain": [
       "   order_id customer_name product_category  quantity  unit_price order_date\n",
       "0      1001         Alice      Electronics       2.0  299.990000 2024-08-01\n",
       "1      1002           Bob         Clothing       1.0   49.990000 2024-08-02\n",
       "2      1003       Unknown      Electronics       2.2  199.990000 2024-08-03\n",
       "3      1004         David            Books       1.0  109.823333 2024-08-04\n",
       "4      1005           Eva    Miscellaneous       3.0   15.990000 2024-08-05\n",
       "5      1006         Frank         Clothing       2.2   79.990000 2024-08-06\n",
       "6      1007       Unknown            Books       4.0   12.990000 2024-08-06"
      ]
     },
     "execution_count": 51,
     "metadata": {},
     "output_type": "execute_result"
    }
   ],
   "source": [
    "df['customer_name'] = df['customer_name'].fillna('Unknown')\n",
    "df['product_category'] = df['product_category'].fillna('Miscellaneous')\n",
    "df['quantity'] = df['quantity'].fillna(df['quantity'].mean())\n",
    "df['unit_price'] = df['unit_price'].fillna(df['unit_price'].mean())\n",
    "df['order_date'] = pd.to_datetime(df['order_date'])\n",
    "df = df.sort_values(by='order_date')\n",
    "df['order_date'] = df['order_date'].ffill()\n",
    "\n",
    "df"
   ]
  },
  {
   "cell_type": "code",
   "execution_count": null,
   "metadata": {},
   "outputs": [],
   "source": []
  }
 ],
 "metadata": {
  "kernelspec": {
   "display_name": ".venv",
   "language": "python",
   "name": "python3"
  },
  "language_info": {
   "codemirror_mode": {
    "name": "ipython",
    "version": 3
   },
   "file_extension": ".py",
   "mimetype": "text/x-python",
   "name": "python",
   "nbconvert_exporter": "python",
   "pygments_lexer": "ipython3",
   "version": "3.12.2"
  }
 },
 "nbformat": 4,
 "nbformat_minor": 2
}
